{
 "cells": [
  {
   "cell_type": "code",
   "execution_count": 72,
   "metadata": {},
   "outputs": [
    {
     "name": "stderr",
     "output_type": "stream",
     "text": [
      "/var/folders/gg/brcqhwks3l5_byjdghsnlcvr0000gn/T/ipykernel_88630/810062864.py:4: DtypeWarning: Columns (9) have mixed types. Specify dtype option on import or set low_memory=False.\n",
      "  df = pd.read_csv('traffic.csv')\n"
     ]
    }
   ],
   "source": [
    "import pandas as pd\n",
    "import seaborn as sns\n",
    "import matplotlib.pyplot as plt\n",
    "df = pd.read_csv('traffic.csv')"
   ]
  },
  {
   "cell_type": "code",
   "execution_count": 73,
   "metadata": {},
   "outputs": [
    {
     "data": {
      "text/html": [
       "<div>\n",
       "<style scoped>\n",
       "    .dataframe tbody tr th:only-of-type {\n",
       "        vertical-align: middle;\n",
       "    }\n",
       "\n",
       "    .dataframe tbody tr th {\n",
       "        vertical-align: top;\n",
       "    }\n",
       "\n",
       "    .dataframe thead th {\n",
       "        text-align: right;\n",
       "    }\n",
       "</style>\n",
       "<table border=\"1\" class=\"dataframe\">\n",
       "  <thead>\n",
       "    <tr style=\"text-align: right;\">\n",
       "      <th></th>\n",
       "      <th>Traffic Report ID</th>\n",
       "      <th>Posted DateTime</th>\n",
       "      <th>Issue Reported</th>\n",
       "      <th>Latitude</th>\n",
       "      <th>Longitude</th>\n",
       "      <th>Address</th>\n",
       "      <th>Resolved DateTime</th>\n",
       "      <th>Agency</th>\n",
       "    </tr>\n",
       "  </thead>\n",
       "  <tbody>\n",
       "    <tr>\n",
       "      <th>0</th>\n",
       "      <td>415D2E4353963C539961C46AD289844F4093BA96_17205...</td>\n",
       "      <td>2024-07-09 22:20:22</td>\n",
       "      <td>Crash Urgent</td>\n",
       "      <td>30.290607</td>\n",
       "      <td>-97.734599</td>\n",
       "      <td>2803-2804 San Jacinto Blvd</td>\n",
       "      <td>2024-07-09 23:40:15</td>\n",
       "      <td>AUSTIN PD</td>\n",
       "    </tr>\n",
       "    <tr>\n",
       "      <th>1</th>\n",
       "      <td>CB852047223EB4C0EC2C483D9268EFB97861128A_17063...</td>\n",
       "      <td>2024-01-26 21:38:37</td>\n",
       "      <td>Traffic Hazard</td>\n",
       "      <td>30.333999</td>\n",
       "      <td>-97.721241</td>\n",
       "      <td>N Lamar Blvd / Brentwood St</td>\n",
       "      <td>2024-01-26 21:55:10</td>\n",
       "      <td>AUSTIN PD</td>\n",
       "    </tr>\n",
       "    <tr>\n",
       "      <th>2</th>\n",
       "      <td>F267B8E5A7E8B7E956D2278FCC345757478B3703_17092...</td>\n",
       "      <td>2024-02-29 13:26:42</td>\n",
       "      <td>Crash Urgent</td>\n",
       "      <td>30.429827</td>\n",
       "      <td>-97.683970</td>\n",
       "      <td>1901-2009 W Howard Ln</td>\n",
       "      <td>2024-02-29 14:25:15</td>\n",
       "      <td>AUSTIN PD</td>\n",
       "    </tr>\n",
       "    <tr>\n",
       "      <th>3</th>\n",
       "      <td>97E3D7DDE9CFE479809108E9E82145A7912A08A2_17205...</td>\n",
       "      <td>2024-07-09 22:36:21</td>\n",
       "      <td>Crash Service</td>\n",
       "      <td>30.202624</td>\n",
       "      <td>-97.666966</td>\n",
       "      <td>3602 Presidential Blvd</td>\n",
       "      <td>2024-07-09 23:45:15</td>\n",
       "      <td>AUSTIN PD</td>\n",
       "    </tr>\n",
       "    <tr>\n",
       "      <th>4</th>\n",
       "      <td>9D9859EF101E69D0B68952447676060A3591DC47_17205...</td>\n",
       "      <td>2024-07-09 22:43:32</td>\n",
       "      <td>Crash Urgent</td>\n",
       "      <td>30.265759</td>\n",
       "      <td>-97.752773</td>\n",
       "      <td>800-815 W Cesar Chavez St</td>\n",
       "      <td>2024-07-09 23:45:15</td>\n",
       "      <td>AUSTIN PD</td>\n",
       "    </tr>\n",
       "    <tr>\n",
       "      <th>...</th>\n",
       "      <td>...</td>\n",
       "      <td>...</td>\n",
       "      <td>...</td>\n",
       "      <td>...</td>\n",
       "      <td>...</td>\n",
       "      <td>...</td>\n",
       "      <td>...</td>\n",
       "      <td>...</td>\n",
       "    </tr>\n",
       "    <tr>\n",
       "      <th>388987</th>\n",
       "      <td>53B43ADA41A9083EFA9B04AD10970C2B494633F1_15850...</td>\n",
       "      <td>2020-03-25 00:36:56</td>\n",
       "      <td>TRFC HAZD/ DEBRIS</td>\n",
       "      <td>30.455985</td>\n",
       "      <td>-97.666964</td>\n",
       "      <td>N Ih 35 Svrd Sb &amp; Grand Avenue Pkwy</td>\n",
       "      <td>2020-03-25 00:45:04</td>\n",
       "      <td>NaN</td>\n",
       "    </tr>\n",
       "    <tr>\n",
       "      <th>388988</th>\n",
       "      <td>63B15C94F3EA3F01CFAF04A6732A0333968EAF29_15849...</td>\n",
       "      <td>2020-03-23 17:44:59</td>\n",
       "      <td>Traffic Hazard</td>\n",
       "      <td>30.366480</td>\n",
       "      <td>-97.605985</td>\n",
       "      <td>6400-6524 E Parmer Ln</td>\n",
       "      <td>2020-03-23 18:15:04</td>\n",
       "      <td>NaN</td>\n",
       "    </tr>\n",
       "    <tr>\n",
       "      <th>388989</th>\n",
       "      <td>C9A29848A88AE775219A33558046DA3BF7BFE247_15822...</td>\n",
       "      <td>2020-02-20 16:56:18</td>\n",
       "      <td>Traffic Hazard</td>\n",
       "      <td>30.372699</td>\n",
       "      <td>-97.740592</td>\n",
       "      <td>8400 N Mopac Expy Nb</td>\n",
       "      <td>2020-02-20 17:10:03</td>\n",
       "      <td>NaN</td>\n",
       "    </tr>\n",
       "    <tr>\n",
       "      <th>388990</th>\n",
       "      <td>9449672FEF19BA0F9E744F5E7355C5E1400B5504_15837...</td>\n",
       "      <td>2020-03-09 23:13:00</td>\n",
       "      <td>Crash Urgent</td>\n",
       "      <td>30.414295</td>\n",
       "      <td>-97.706147</td>\n",
       "      <td>12221 N Mopac Expy Svrd Nb</td>\n",
       "      <td>2020-03-09 23:35:04</td>\n",
       "      <td>NaN</td>\n",
       "    </tr>\n",
       "    <tr>\n",
       "      <th>388991</th>\n",
       "      <td>803416F0D1FBCD8344B24B42E4CADBE33C1F6AD9_17063...</td>\n",
       "      <td>2024-01-26 21:31:57</td>\n",
       "      <td>LOOSE LIVESTOCK</td>\n",
       "      <td>30.277369</td>\n",
       "      <td>-97.503367</td>\n",
       "      <td>19900-19965 BLAKE MANOR RD</td>\n",
       "      <td>2024-01-26 21:55:10</td>\n",
       "      <td>TRAVIS COUNTY SHERIF</td>\n",
       "    </tr>\n",
       "  </tbody>\n",
       "</table>\n",
       "<p>388992 rows × 8 columns</p>\n",
       "</div>"
      ],
      "text/plain": [
       "                                        Traffic Report ID     Posted DateTime  \\\n",
       "0       415D2E4353963C539961C46AD289844F4093BA96_17205... 2024-07-09 22:20:22   \n",
       "1       CB852047223EB4C0EC2C483D9268EFB97861128A_17063... 2024-01-26 21:38:37   \n",
       "2       F267B8E5A7E8B7E956D2278FCC345757478B3703_17092... 2024-02-29 13:26:42   \n",
       "3       97E3D7DDE9CFE479809108E9E82145A7912A08A2_17205... 2024-07-09 22:36:21   \n",
       "4       9D9859EF101E69D0B68952447676060A3591DC47_17205... 2024-07-09 22:43:32   \n",
       "...                                                   ...                 ...   \n",
       "388987  53B43ADA41A9083EFA9B04AD10970C2B494633F1_15850... 2020-03-25 00:36:56   \n",
       "388988  63B15C94F3EA3F01CFAF04A6732A0333968EAF29_15849... 2020-03-23 17:44:59   \n",
       "388989  C9A29848A88AE775219A33558046DA3BF7BFE247_15822... 2020-02-20 16:56:18   \n",
       "388990  9449672FEF19BA0F9E744F5E7355C5E1400B5504_15837... 2020-03-09 23:13:00   \n",
       "388991  803416F0D1FBCD8344B24B42E4CADBE33C1F6AD9_17063... 2024-01-26 21:31:57   \n",
       "\n",
       "           Issue Reported   Latitude  Longitude  \\\n",
       "0            Crash Urgent  30.290607 -97.734599   \n",
       "1          Traffic Hazard  30.333999 -97.721241   \n",
       "2            Crash Urgent  30.429827 -97.683970   \n",
       "3           Crash Service  30.202624 -97.666966   \n",
       "4            Crash Urgent  30.265759 -97.752773   \n",
       "...                   ...        ...        ...   \n",
       "388987  TRFC HAZD/ DEBRIS  30.455985 -97.666964   \n",
       "388988     Traffic Hazard  30.366480 -97.605985   \n",
       "388989     Traffic Hazard  30.372699 -97.740592   \n",
       "388990       Crash Urgent  30.414295 -97.706147   \n",
       "388991    LOOSE LIVESTOCK  30.277369 -97.503367   \n",
       "\n",
       "                                    Address   Resolved DateTime  \\\n",
       "0                2803-2804 San Jacinto Blvd 2024-07-09 23:40:15   \n",
       "1               N Lamar Blvd / Brentwood St 2024-01-26 21:55:10   \n",
       "2                     1901-2009 W Howard Ln 2024-02-29 14:25:15   \n",
       "3                    3602 Presidential Blvd 2024-07-09 23:45:15   \n",
       "4                 800-815 W Cesar Chavez St 2024-07-09 23:45:15   \n",
       "...                                     ...                 ...   \n",
       "388987  N Ih 35 Svrd Sb & Grand Avenue Pkwy 2020-03-25 00:45:04   \n",
       "388988                6400-6524 E Parmer Ln 2020-03-23 18:15:04   \n",
       "388989                 8400 N Mopac Expy Nb 2020-02-20 17:10:03   \n",
       "388990           12221 N Mopac Expy Svrd Nb 2020-03-09 23:35:04   \n",
       "388991           19900-19965 BLAKE MANOR RD 2024-01-26 21:55:10   \n",
       "\n",
       "                      Agency  \n",
       "0       AUSTIN PD             \n",
       "1       AUSTIN PD             \n",
       "2       AUSTIN PD             \n",
       "3       AUSTIN PD             \n",
       "4       AUSTIN PD             \n",
       "...                      ...  \n",
       "388987                   NaN  \n",
       "388988                   NaN  \n",
       "388989                   NaN  \n",
       "388990                   NaN  \n",
       "388991  TRAVIS COUNTY SHERIF  \n",
       "\n",
       "[388992 rows x 8 columns]"
      ]
     },
     "execution_count": 73,
     "metadata": {},
     "output_type": "execute_result"
    }
   ],
   "source": [
    "df['Published Date'] = pd.to_datetime(df['Published Date'], format=\"%m/%d/%Y %I:%M:%S %p %z\")\n",
    "df['Posted Date'] = df['Published Date'].dt.date\n",
    "df['Posted Time'] = df['Published Date'].dt.strftime('%H:%M:%S')\n",
    "df['Posted DateTime'] = pd.to_datetime(df['Posted Date'].astype(str) + ' ' + df['Posted Time'])\n",
    "\n",
    "\n",
    "df['Status Date'] = pd.to_datetime(df['Status Date'], format=\"%m/%d/%Y %I:%M:%S %p %z\")\n",
    "df['Resolved Date'] = df['Status Date'].dt.date \n",
    "df['Resolved Time'] = df['Status Date'].dt.strftime('%H:%M:%S') \n",
    "df['Resolved DateTime'] = pd.to_datetime(df['Resolved Date'].astype(str) + ' ' + df['Resolved Time'])\n",
    "\n",
    "order = ['Traffic Report ID','Posted DateTime','Issue Reported','Latitude','Longitude','Address','Resolved DateTime','Agency']\n",
    "df = df[order]\n",
    "df"
   ]
  },
  {
   "cell_type": "code",
   "execution_count": 74,
   "metadata": {},
   "outputs": [
    {
     "data": {
      "text/plain": [
       "Traffic Report ID    False\n",
       "Posted DateTime      False\n",
       "Issue Reported       False\n",
       "Latitude              True\n",
       "Longitude             True\n",
       "Address              False\n",
       "Resolved DateTime    False\n",
       "Agency                True\n",
       "dtype: bool"
      ]
     },
     "execution_count": 74,
     "metadata": {},
     "output_type": "execute_result"
    }
   ],
   "source": [
    "df.isnull().any()"
   ]
  },
  {
   "cell_type": "code",
   "execution_count": 75,
   "metadata": {},
   "outputs": [
    {
     "name": "stderr",
     "output_type": "stream",
     "text": [
      "/var/folders/gg/brcqhwks3l5_byjdghsnlcvr0000gn/T/ipykernel_88630/2236128615.py:2: SettingWithCopyWarning: \n",
      "A value is trying to be set on a copy of a slice from a DataFrame.\n",
      "Try using .loc[row_indexer,col_indexer] = value instead\n",
      "\n",
      "See the caveats in the documentation: https://pandas.pydata.org/pandas-docs/stable/user_guide/indexing.html#returning-a-view-versus-a-copy\n",
      "  df.Agency = df.Agency.fillna('Other')\n"
     ]
    },
    {
     "data": {
      "text/plain": [
       "Traffic Report ID    False\n",
       "Posted DateTime      False\n",
       "Issue Reported       False\n",
       "Latitude             False\n",
       "Longitude            False\n",
       "Address              False\n",
       "Resolved DateTime    False\n",
       "Agency               False\n",
       "dtype: bool"
      ]
     },
     "execution_count": 75,
     "metadata": {},
     "output_type": "execute_result"
    }
   ],
   "source": [
    "df = df.dropna(subset='Latitude')\n",
    "df.Agency = df.Agency.fillna('Other')\n",
    "df.isnull().any()"
   ]
  },
  {
   "cell_type": "code",
   "execution_count": 76,
   "metadata": {},
   "outputs": [
    {
     "name": "stdout",
     "output_type": "stream",
     "text": [
      "['Crash Urgent' 'Traffic Hazard' 'Crash Service' 'TRFC HAZD/ DEBRIS'\n",
      " 'COLLISION' 'AUTO/ PED' 'COLLISION WITH INJURY' 'COLLISN/ LVNG SCN'\n",
      " 'Stalled Vehicle' 'LOOSE LIVESTOCK' 'VEHICLE FIRE'\n",
      " 'COLLISION/PRIVATE PROPERTY' 'BLOCKED DRIV/ HWY' 'FLEET ACC/ INJURY'\n",
      " 'TRAFFIC FATALITY' 'BOAT ACCIDENT' 'OBSTRUCT HWY' 'N / HZRD TRFC VIOL'\n",
      " 'ICY ROADWAY' 'zSTALLED VEHICLE' 'HIGH WATER' 'Traffic Impediment'\n",
      " 'COLLISN / FTSRA' 'FLEET ACC/ FATAL']\n"
     ]
    }
   ],
   "source": [
    "print(df['Issue Reported'].unique())"
   ]
  },
  {
   "cell_type": "code",
   "execution_count": 77,
   "metadata": {},
   "outputs": [
    {
     "name": "stderr",
     "output_type": "stream",
     "text": [
      "/var/folders/gg/brcqhwks3l5_byjdghsnlcvr0000gn/T/ipykernel_88630/123826903.py:1: SettingWithCopyWarning: \n",
      "A value is trying to be set on a copy of a slice from a DataFrame.\n",
      "Try using .loc[row_indexer,col_indexer] = value instead\n",
      "\n",
      "See the caveats in the documentation: https://pandas.pydata.org/pandas-docs/stable/user_guide/indexing.html#returning-a-view-versus-a-copy\n",
      "  df['Issue Reported'] = df['Issue Reported'].replace({'TRFC HAZD/ DEBRIS': 'Traffic Hazard', 'COLLISION': 'Collision',\n"
     ]
    }
   ],
   "source": [
    "df['Issue Reported'] = df['Issue Reported'].replace({'TRFC HAZD/ DEBRIS': 'Traffic Hazard', 'COLLISION': 'Collision', \n",
    "                                                    'COLLISION WITH INJURY': 'Collision with Injury', 'AUTO/ PED': 'Collision with Injury',\n",
    "                                                    'COLLISN/ LVNG SCN': 'Collision with Injury', 'LOOSE LIVESTOCK': 'Loose Livestock', \n",
    "                                                    'VEHICLE FIRE': 'Vehicle Fire', 'COLLISION/PRIVATE PROPERTY': 'Collision', 'BLOCKED DRIV/ HWY': 'Obstructed Hwy',\n",
    "                                                    'FLEET ACC/ INJURY': 'Fleet Acc/ Injury', 'TRAFFIC FATALITY': 'Traffic Fatality', 'BOAT ACCIDENT': 'Boat Accident',\n",
    "                                                    'OBSTRUCT HWY': 'Obstructed Hwy', 'N / HZRD TRFC VIOL': 'Traffic Hazard', 'ICY ROADWAY': 'Icy Roadway',\n",
    "                                                    'zSTALLED VEHICLE': 'Stalled Vehicle', 'HIGH WATER': 'High Water', 'COLLISN / FTSRA': 'Collision',\n",
    "                                                    'FLEET ACC/ FATAL': 'Vehicle Fire', 'FLEET ACC/ FATAL': 'Fleet Acc/ Fatal'})\n"
   ]
  },
  {
   "cell_type": "code",
   "execution_count": 78,
   "metadata": {},
   "outputs": [
    {
     "name": "stdout",
     "output_type": "stream",
     "text": [
      "['Crash Urgent' 'Traffic Hazard' 'Crash Service' 'Collision'\n",
      " 'Collision with Injury' 'Stalled Vehicle' 'Loose Livestock'\n",
      " 'Vehicle Fire' 'Obstructed Hwy' 'Fleet Acc/ Injury' 'Traffic Fatality'\n",
      " 'Boat Accident' 'Icy Roadway' 'High Water' 'Traffic Impediment'\n",
      " 'Fleet Acc/ Fatal']\n"
     ]
    }
   ],
   "source": [
    "print(df['Issue Reported'].unique())"
   ]
  },
  {
   "cell_type": "code",
   "execution_count": 79,
   "metadata": {},
   "outputs": [
    {
     "data": {
      "text/html": [
       "<div>\n",
       "<style scoped>\n",
       "    .dataframe tbody tr th:only-of-type {\n",
       "        vertical-align: middle;\n",
       "    }\n",
       "\n",
       "    .dataframe tbody tr th {\n",
       "        vertical-align: top;\n",
       "    }\n",
       "\n",
       "    .dataframe thead th {\n",
       "        text-align: right;\n",
       "    }\n",
       "</style>\n",
       "<table border=\"1\" class=\"dataframe\">\n",
       "  <thead>\n",
       "    <tr style=\"text-align: right;\">\n",
       "      <th></th>\n",
       "      <th>Traffic Report ID</th>\n",
       "      <th>Posted DateTime</th>\n",
       "      <th>Issue Reported</th>\n",
       "      <th>Latitude</th>\n",
       "      <th>Longitude</th>\n",
       "      <th>Address</th>\n",
       "      <th>Resolved DateTime</th>\n",
       "      <th>Agency</th>\n",
       "    </tr>\n",
       "  </thead>\n",
       "  <tbody>\n",
       "    <tr>\n",
       "      <th>65548</th>\n",
       "      <td>2F1F38F5F45C0AFA1247C82CC3EC4FAEF40E7AB0_16734...</td>\n",
       "      <td>2023-01-11 14:14:23</td>\n",
       "      <td>Traffic Hazard</td>\n",
       "      <td>30.453128</td>\n",
       "      <td>-97.776355</td>\n",
       "      <td>Turtle Rock Rd &amp; Anderson Mill Rd</td>\n",
       "      <td>2023-01-11 14:30:04</td>\n",
       "      <td>Other</td>\n",
       "    </tr>\n",
       "  </tbody>\n",
       "</table>\n",
       "</div>"
      ],
      "text/plain": [
       "                                       Traffic Report ID     Posted DateTime  \\\n",
       "65548  2F1F38F5F45C0AFA1247C82CC3EC4FAEF40E7AB0_16734... 2023-01-11 14:14:23   \n",
       "\n",
       "       Issue Reported   Latitude  Longitude  \\\n",
       "65548  Traffic Hazard  30.453128 -97.776355   \n",
       "\n",
       "                                 Address   Resolved DateTime Agency  \n",
       "65548  Turtle Rock Rd & Anderson Mill Rd 2023-01-11 14:30:04  Other  "
      ]
     },
     "execution_count": 79,
     "metadata": {},
     "output_type": "execute_result"
    }
   ],
   "source": [
    "A = df[df['Traffic Report ID'] == '2F1F38F5F45C0AFA1247C82CC3EC4FAEF40E7AB0_1673446463']\n",
    "A"
   ]
  },
  {
   "cell_type": "code",
   "execution_count": 80,
   "metadata": {},
   "outputs": [
    {
     "name": "stdout",
     "output_type": "stream",
     "text": [
      "<class 'pandas.core.frame.DataFrame'>\n",
      "Index: 388913 entries, 0 to 388991\n",
      "Data columns (total 8 columns):\n",
      " #   Column             Non-Null Count   Dtype         \n",
      "---  ------             --------------   -----         \n",
      " 0   Traffic Report ID  388913 non-null  object        \n",
      " 1   Posted DateTime    388913 non-null  datetime64[ns]\n",
      " 2   Issue Reported     388913 non-null  object        \n",
      " 3   Latitude           388913 non-null  float64       \n",
      " 4   Longitude          388913 non-null  float64       \n",
      " 5   Address            388913 non-null  object        \n",
      " 6   Resolved DateTime  388913 non-null  datetime64[ns]\n",
      " 7   Agency             388913 non-null  object        \n",
      "dtypes: datetime64[ns](2), float64(2), object(4)\n",
      "memory usage: 26.7+ MB\n"
     ]
    }
   ],
   "source": [
    "df.info()"
   ]
  },
  {
   "cell_type": "code",
   "execution_count": 36,
   "metadata": {},
   "outputs": [
    {
     "data": {
      "text/html": [
       "<div>\n",
       "<style scoped>\n",
       "    .dataframe tbody tr th:only-of-type {\n",
       "        vertical-align: middle;\n",
       "    }\n",
       "\n",
       "    .dataframe tbody tr th {\n",
       "        vertical-align: top;\n",
       "    }\n",
       "\n",
       "    .dataframe thead th {\n",
       "        text-align: right;\n",
       "    }\n",
       "</style>\n",
       "<table border=\"1\" class=\"dataframe\">\n",
       "  <thead>\n",
       "    <tr style=\"text-align: right;\">\n",
       "      <th></th>\n",
       "      <th>Latitude</th>\n",
       "      <th>Longitude</th>\n",
       "    </tr>\n",
       "  </thead>\n",
       "  <tbody>\n",
       "    <tr>\n",
       "      <th>count</th>\n",
       "      <td>3.889130e+05</td>\n",
       "      <td>388913.000000</td>\n",
       "    </tr>\n",
       "    <tr>\n",
       "      <th>mean</th>\n",
       "      <td>5.699225e+03</td>\n",
       "      <td>-97.518999</td>\n",
       "    </tr>\n",
       "    <tr>\n",
       "      <th>std</th>\n",
       "      <td>4.109467e+05</td>\n",
       "      <td>4.543348</td>\n",
       "    </tr>\n",
       "    <tr>\n",
       "      <th>min</th>\n",
       "      <td>0.000000e+00</td>\n",
       "      <td>-98.816154</td>\n",
       "    </tr>\n",
       "    <tr>\n",
       "      <th>25%</th>\n",
       "      <td>3.023078e+01</td>\n",
       "      <td>-97.776252</td>\n",
       "    </tr>\n",
       "    <tr>\n",
       "      <th>50%</th>\n",
       "      <td>3.029432e+01</td>\n",
       "      <td>-97.732080</td>\n",
       "    </tr>\n",
       "    <tr>\n",
       "      <th>75%</th>\n",
       "      <td>3.037396e+01</td>\n",
       "      <td>-97.682513</td>\n",
       "    </tr>\n",
       "    <tr>\n",
       "      <th>max</th>\n",
       "      <td>2.999603e+07</td>\n",
       "      <td>0.000000</td>\n",
       "    </tr>\n",
       "  </tbody>\n",
       "</table>\n",
       "</div>"
      ],
      "text/plain": [
       "           Latitude      Longitude\n",
       "count  3.889130e+05  388913.000000\n",
       "mean   5.699225e+03     -97.518999\n",
       "std    4.109467e+05       4.543348\n",
       "min    0.000000e+00     -98.816154\n",
       "25%    3.023078e+01     -97.776252\n",
       "50%    3.029432e+01     -97.732080\n",
       "75%    3.037396e+01     -97.682513\n",
       "max    2.999603e+07       0.000000"
      ]
     },
     "execution_count": 53,
     "metadata": {},
     "output_type": "execute_result"
    }
   ],
   "source": [
    "df.describe()"
   ]
  },
  {
   "cell_type": "code",
   "execution_count": 81,
   "metadata": {},
   "outputs": [],
   "source": [
    "df.to_csv('TrafficDB.csv')"
   ]
  }
 ],
 "metadata": {
  "kernelspec": {
   "display_name": "Python 3",
   "language": "python",
   "name": "python3"
  },
  "language_info": {
   "codemirror_mode": {
    "name": "ipython",
    "version": 3
   },
   "file_extension": ".py",
   "mimetype": "text/x-python",
   "name": "python",
   "nbconvert_exporter": "python",
   "pygments_lexer": "ipython3",
   "version": "3.12.0"
  }
 },
 "nbformat": 4,
 "nbformat_minor": 2
}
